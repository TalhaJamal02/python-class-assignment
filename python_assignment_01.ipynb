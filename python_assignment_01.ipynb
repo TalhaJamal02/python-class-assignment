{
  "nbformat": 4,
  "nbformat_minor": 0,
  "metadata": {
    "colab": {
      "provenance": [],
      "toc_visible": true,
      "authorship_tag": "ABX9TyM4KJgiTTw7vsegbbHueoqy",
      "include_colab_link": true
    },
    "kernelspec": {
      "name": "python3",
      "display_name": "Python 3"
    },
    "language_info": {
      "name": "python"
    }
  },
  "cells": [
    {
      "cell_type": "markdown",
      "metadata": {
        "id": "view-in-github",
        "colab_type": "text"
      },
      "source": [
        "<a href=\"https://colab.research.google.com/github/TalhaJamal02/python-class-assignment/blob/main/python_assignment_01.ipynb\" target=\"_parent\"><img src=\"https://colab.research.google.com/assets/colab-badge.svg\" alt=\"Open In Colab\"/></a>"
      ]
    },
    {
      "cell_type": "code",
      "source": [
        "a = 'Hello' # Best for short, simple strings without apostrophes.\n",
        "b = \"World\" # when your string contains apostrophes or single quotes to avoid backslashes.\n",
        "c = \"\"\"Lorem ipsum odor amet, consectetuer\n",
        "adipiscing elit.\n",
        "Mauris tristique dui eleifend\n",
        "velit egestas pulvinar scelerisque.\"\"\" # Triple quotes are invaluable when you need to create strings that span multiple lines\n",
        "print(a)\n",
        "print(b)\n",
        "print(c)\n"
      ],
      "metadata": {
        "id": "zbme7s8EU31g",
        "colab": {
          "base_uri": "https://localhost:8080/"
        },
        "outputId": "d59904b5-3c2c-4743-a675-15d1763943ad"
      },
      "execution_count": null,
      "outputs": [
        {
          "output_type": "stream",
          "name": "stdout",
          "text": [
            "Hello\n",
            "World\n",
            "Lorem ipsum odor amet, consectetuer\n",
            "adipiscing elit. \n",
            "Mauris tristique dui eleifend \n",
            "velit egestas pulvinar scelerisque.\n"
          ]
        }
      ]
    },
    {
      "cell_type": "code",
      "source": [
        "single_double_str = \"It's friday with a beautiful weather\"\n",
        "print(single_double_str)"
      ],
      "metadata": {
        "colab": {
          "base_uri": "https://localhost:8080/"
        },
        "id": "1y3b4Fq4bgeW",
        "outputId": "6d1de32f-4c36-48b5-f2ee-cd1bc3bb5343"
      },
      "execution_count": null,
      "outputs": [
        {
          "output_type": "stream",
          "name": "stdout",
          "text": [
            "It's friday with a beautiful weather\n"
          ]
        }
      ]
    },
    {
      "cell_type": "code",
      "source": [
        "hobby = \"\"\"Traveling enables me to experience new destinations and gain new insights.\n",
        "I love the rush of learning various cultures while remaining attached to my love for coding.\n",
        "Whether driving or sitting at my desk, coding makes me feel creative and competent.\"\"\"\n",
        "print(hobby)"
      ],
      "metadata": {
        "colab": {
          "base_uri": "https://localhost:8080/"
        },
        "id": "TK5cZqr0c8gd",
        "outputId": "e223c6f8-4b6f-44fc-bf2d-e0f6cd1a73bb"
      },
      "execution_count": null,
      "outputs": [
        {
          "output_type": "stream",
          "name": "stdout",
          "text": [
            "Traveling enables me to experience new destinations and gain new insights.\n",
            "I love the rush of learning various cultures while remaining attached to my love for coding.\n",
            "Whether driving or sitting at my desk, coding makes me feel creative and competent.\n"
          ]
        }
      ]
    },
    {
      "cell_type": "code",
      "source": [
        "full_name = \"Talha jamal\"\n",
        "print(full_name.upper())\n",
        "print(full_name.lower())\n",
        "print(full_name.title())"
      ],
      "metadata": {
        "colab": {
          "base_uri": "https://localhost:8080/"
        },
        "id": "4sxdPgTddmAU",
        "outputId": "62b09ace-91aa-44ae-f372-f19b5bce2e31"
      },
      "execution_count": null,
      "outputs": [
        {
          "output_type": "stream",
          "name": "stdout",
          "text": [
            "TALHA JAMAL\n",
            "talha jamal\n",
            "Talha Jamal\n"
          ]
        }
      ]
    },
    {
      "cell_type": "code",
      "source": [
        "messy_text = \"  Python programming is fun!  \"\n",
        "print(messy_text)\n",
        "remove_space = messy_text.strip()\n",
        "print(remove_space)\n",
        "\n",
        "messy_text = \"Python programming is fun!\"\n",
        "replaced_text = messy_text.replace(\"fun\", \"amazing\")\n",
        "print(replaced_text)\n",
        "print(replaced_text.count(\"i\"))\n",
        "\n",
        "print(messy_text.count(\"i\"))"
      ],
      "metadata": {
        "colab": {
          "base_uri": "https://localhost:8080/"
        },
        "id": "g_EjiUU9hW6q",
        "outputId": "da41d9e9-0986-420d-d8a4-095dcba623cc"
      },
      "execution_count": null,
      "outputs": [
        {
          "output_type": "stream",
          "name": "stdout",
          "text": [
            "  Python programming is fun!  \n",
            "Python programming is fun!\n",
            "Python programming is amazing!\n",
            "3\n",
            "2\n"
          ]
        }
      ]
    },
    {
      "cell_type": "code",
      "source": [
        "sentence = \"The quick brown fox jumps over the lazy dog\"\n",
        "words = sentence.split()\n",
        "print(words)\n",
        "\n",
        "dashed = \"-\".join(words)\n",
        "print(dashed)\n",
        "\n",
        "check_sentence = sentence.startswith(\"The\")\n",
        "print(check_sentence)\n",
        "\n",
        "sentence_position = sentence.index(\"fox\")\n",
        "print(sentence_position)\n",
        "\n",
        "word_position = words.index(\"fox\")\n",
        "print(word_position)"
      ],
      "metadata": {
        "colab": {
          "base_uri": "https://localhost:8080/"
        },
        "id": "5rWDiIJgi_oC",
        "outputId": "42ce5687-894d-4f3a-ecd6-cc405a752f32"
      },
      "execution_count": null,
      "outputs": [
        {
          "output_type": "stream",
          "name": "stdout",
          "text": [
            "['The', 'quick', 'brown', 'fox', 'jumps', 'over', 'the', 'lazy', 'dog']\n",
            "The-quick-brown-fox-jumps-over-the-lazy-dog\n",
            "True\n",
            "16\n",
            "3\n"
          ]
        }
      ]
    },
    {
      "cell_type": "code",
      "source": [
        "name = \"Talha Jamal\"\n",
        "age = 17\n",
        "language = \"Python and TypeScript\"\n",
        "\n",
        "print(f\"My name is {name} and I am {age} years old.\")\n",
        "print(f\"I enjoy programming in {language}, it's my favorite!\")\n",
        "print(f\"In 5 years, I will be {age + 5} years old.\")"
      ],
      "metadata": {
        "colab": {
          "base_uri": "https://localhost:8080/"
        },
        "id": "8aP5WcL2lxbj",
        "outputId": "4a78e517-ae92-4684-c537-e146933eb95e"
      },
      "execution_count": null,
      "outputs": [
        {
          "output_type": "stream",
          "name": "stdout",
          "text": [
            "My name is Talha Jamal and I am 17 years old.\n",
            "I enjoy programming in Python and TypeScript, it's my favorite!\n",
            "In 5 years, I will be 22 years old.\n"
          ]
        }
      ]
    },
    {
      "cell_type": "code",
      "source": [
        "first_name = str(input(\"Enter your first name: \"))\n",
        "last_name = str(input(\"Enter your last name: \"))\n",
        "while True:\n",
        "  birth_year = (input(\"Enter your birth year: \"))\n",
        "  if birth_year.isdigit() and len(birth_year) == 4:\n",
        "    birth_year = int(birth_year)\n",
        "    break\n",
        "  else:\n",
        "    print(\"Please enter a valid 4-digit birth year.\")\n",
        "\n",
        "first_name = first_name.capitalize()\n",
        "last_name = last_name.capitalize()\n",
        "full_name = f\"{first_name} {last_name}\"\n",
        "\n",
        "current_year = 2025\n",
        "age = current_year - birth_year\n",
        "\n",
        "username = f\"{first_name[0].lower()}{last_name.lower()}{birth_year}\"\n",
        "\n",
        "profile_message = f\"Profile: {full_name}, Age: {age}, Username: {username}.\"\n",
        "print(profile_message)"
      ],
      "metadata": {
        "colab": {
          "base_uri": "https://localhost:8080/"
        },
        "id": "vSjM2B3LmiaS",
        "outputId": "13b700d1-b3b1-4841-a7c7-89b568e4c2b0"
      },
      "execution_count": null,
      "outputs": [
        {
          "output_type": "stream",
          "name": "stdout",
          "text": [
            "Enter your first name: Talha\n",
            "Enter your last name: jamal\n",
            "Enter your birth year: 2008\n",
            "Profile: Talha Jamal, Age: 17, Username: tjamal2008.\n"
          ]
        }
      ]
    }
  ]
}